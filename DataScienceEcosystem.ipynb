{
 "cells": [
  {
   "cell_type": "markdown",
   "id": "f9b140a6-97aa-4b93-949a-cb024ab214b5",
   "metadata": {},
   "source": [
    "# Data Science Tools and Ecosystem"
   ]
  },
  {
   "cell_type": "markdown",
   "id": "7781ee00-e132-4843-8566-eded12648021",
   "metadata": {},
   "source": [
    "## Introduction\n",
    "### Data Science Tools and Ecosystem"
   ]
  },
  {
   "cell_type": "markdown",
   "id": "12c8eae2-af0a-4945-bafe-0859e906dbc2",
   "metadata": {},
   "source": [
    "### Some of the popular languages that Data Scientists use are:\n",
    "1. Python\n",
    "2. Java\n",
    "3. R"
   ]
  },
  {
   "cell_type": "markdown",
   "id": "7c29184c-3cc5-4246-af0d-da9304f949a4",
   "metadata": {},
   "source": [
    "### Some of the commonly used libraries used by Data Scientists include:\n",
    "1. Pandas\n",
    "2. Numpy\n",
    "3. Matplotlib"
   ]
  },
  {
   "cell_type": "markdown",
   "id": "9b508a71-cab8-4541-a146-45a4ae18c2fa",
   "metadata": {},
   "source": [
    "| Data Science Tools |\n",
    "| ---|\n",
    "| Spyder |\n",
    "| Tensorflow |\n",
    "| Scikit-Learn |"
   ]
  },
  {
   "cell_type": "markdown",
   "id": "ddf1a253-240d-436f-9dce-947db88662af",
   "metadata": {},
   "source": [
    "## Arithematic Expression\n",
    "### Below are a few examples of evaluating arithmetic expressions in Python"
   ]
  },
  {
   "cell_type": "code",
   "execution_count": 1,
   "id": "6f2d3bb7-b265-4950-8e0e-d5bbed6d9927",
   "metadata": {},
   "outputs": [
    {
     "name": "stdout",
     "output_type": "stream",
     "text": [
      "17\n"
     ]
    }
   ],
   "source": [
    "# This a simple arithmetic expression to mutiply then add integers\n",
    "print((3*4)+5)"
   ]
  },
  {
   "cell_type": "code",
   "execution_count": 2,
   "id": "795c63dc-a14c-47eb-9c06-3e64bac77be4",
   "metadata": {},
   "outputs": [
    {
     "name": "stdout",
     "output_type": "stream",
     "text": [
      "3.3333333333333335\n"
     ]
    }
   ],
   "source": [
    "# This will convert 200 minutes to hours by diving by 60\n",
    "print(200/60)"
   ]
  },
  {
   "cell_type": "markdown",
   "id": "66b9ce5b-a809-47f6-9095-cc667e12a6dd",
   "metadata": {},
   "source": [
    "## **Objectives:**\n",
    "### List of popular Languages for Data Science\n",
    "- Python\n",
    "- R\n",
    "- Java"
   ]
  },
  {
   "cell_type": "markdown",
   "id": "2873dc9b-d28b-47ac-923c-bf8f4db4e054",
   "metadata": {},
   "source": [
    "## Author\n",
    "Name: Adarsh Mohanty"
   ]
  },
  {
   "cell_type": "code",
   "execution_count": null,
   "id": "d4f4b7f6-9508-44bc-be3c-3f4975487fa3",
   "metadata": {},
   "outputs": [],
   "source": []
  }
 ],
 "metadata": {
  "kernelspec": {
   "display_name": "Python 3 (ipykernel)",
   "language": "python",
   "name": "python3"
  },
  "language_info": {
   "codemirror_mode": {
    "name": "ipython",
    "version": 3
   },
   "file_extension": ".py",
   "mimetype": "text/x-python",
   "name": "python",
   "nbconvert_exporter": "python",
   "pygments_lexer": "ipython3",
   "version": "3.11.9"
  }
 },
 "nbformat": 4,
 "nbformat_minor": 5
}
